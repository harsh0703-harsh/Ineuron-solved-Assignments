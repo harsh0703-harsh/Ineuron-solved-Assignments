{
 "cells": [
  {
   "cell_type": "code",
   "execution_count": 17,
   "metadata": {},
   "outputs": [],
   "source": [
    "import numpy as np"
   ]
  },
  {
   "cell_type": "code",
   "execution_count": 18,
   "metadata": {},
   "outputs": [],
   "source": [
    "def funcf(arr,n,increasing=False):\n",
    "    if increasing:\n",
    "        b=np.matrix([x**i for x in arr for i in range(n)]).reshape(arr.size, n)\n",
    "    else:\n",
    "        b=np.matrix([x**(n-i-1) for x in arr for i in range(n)]).reshape(arr.size, n)\n",
    "    return b\n",
    "      "
   ]
  },
  {
   "cell_type": "code",
   "execution_count": 19,
   "metadata": {},
   "outputs": [
    {
     "data": {
      "text/plain": [
       "matrix([[ 1,  1,  1,  1],\n",
       "        [ 1,  3,  9, 27],\n",
       "        [ 1,  2,  4,  8],\n",
       "        [ 1,  4, 16, 64]])"
      ]
     },
     "execution_count": 19,
     "metadata": {},
     "output_type": "execute_result"
    }
   ],
   "source": [
    "funcf(np.array([1,3,2,4]),4,True)"
   ]
  },
  {
   "cell_type": "code",
   "execution_count": 21,
   "metadata": {},
   "outputs": [
    {
     "data": {
      "text/plain": [
       "matrix([[ 1,  1,  1,  1],\n",
       "        [ 8,  4,  2,  1],\n",
       "        [27,  9,  3,  1],\n",
       "        [64, 16,  4,  1]])"
      ]
     },
     "execution_count": 21,
     "metadata": {},
     "output_type": "execute_result"
    }
   ],
   "source": [
    "funcf(np.array([1,2,3,4]),4,False)"
   ]
  },
  {
   "cell_type": "code",
   "execution_count": 31,
   "metadata": {},
   "outputs": [],
   "source": [
    "def average(val, k):\n",
    "    z = 1\n",
    "    output = np.convolve(val, np.ones(k), 'valid') / k\n",
    "    for i in output:\n",
    "        print(\"y{0} = {1:.2f}\".format(z, i))\n",
    "        z += 1"
   ]
  },
  {
   "cell_type": "code",
   "execution_count": 30,
   "metadata": {},
   "outputs": [
    {
     "name": "stdout",
     "output_type": "stream",
     "text": [
      "y1 = 4.00\n",
      "y2 = 4.33\n",
      "y3 = 5.00\n",
      "y4 = 29.33\n",
      "y5 = 36.33\n",
      "y6 = 56.00\n",
      "y7 = 53.33\n",
      "y8 = 72.67\n",
      "y9 = 55.00\n",
      "y10 = 139.00\n",
      "y11 = 293.00\n"
     ]
    }
   ],
   "source": [
    "average(np.array([1, 4, 7, 2, 6, 80, 23, 65, 72, 81, 12, 324, 543]),3)"
   ]
  },
  {
   "cell_type": "code",
   "execution_count": null,
   "metadata": {},
   "outputs": [],
   "source": []
  }
 ],
 "metadata": {
  "kernelspec": {
   "display_name": "Python 3",
   "language": "python",
   "name": "python3"
  },
  "language_info": {
   "codemirror_mode": {
    "name": "ipython",
    "version": 3
   },
   "file_extension": ".py",
   "mimetype": "text/x-python",
   "name": "python",
   "nbconvert_exporter": "python",
   "pygments_lexer": "ipython3",
   "version": "3.7.6"
  }
 },
 "nbformat": 4,
 "nbformat_minor": 4
}
