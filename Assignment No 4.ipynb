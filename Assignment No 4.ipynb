{
 "cells": [
  {
   "cell_type": "markdown",
   "metadata": {},
   "source": [
    "# Question No 1 "
   ]
  },
  {
   "cell_type": "code",
   "execution_count": 1,
   "metadata": {},
   "outputs": [],
   "source": [
    "class Area():\n",
    "    def __init__(self,a,b,c):\n",
    "        self.a=a\n",
    "        self.b=b\n",
    "        self.c=c\n",
    "    def s(self):\n",
    "        return (self.a+self.b+self.c)/2\n",
    "    def area(self):\n",
    "        return ((self.s())*(self.s()-self.a)*(self.s()-self.b)*(self.s()-self.c))**0.5"
   ]
  },
  {
   "cell_type": "code",
   "execution_count": 3,
   "metadata": {},
   "outputs": [
    {
     "name": "stdout",
     "output_type": "stream",
     "text": [
      "Enter the value of length4\n",
      "Enter the value of length5\n",
      "Enter the value of height2\n",
      "The area is  3.799671038392666\n"
     ]
    }
   ],
   "source": [
    "lenght=int(input(\"Enter the value of length\"))\n",
    "breadth=int(input(\"Enter the value of length\"))\n",
    "height=int(input(\"Enter the value of height\"))\n",
    "ques=Area(lenght,breadth,height)\n",
    "print(\"The area is \",ques.area())"
   ]
  },
  {
   "cell_type": "markdown",
   "metadata": {},
   "source": [
    "# Answer No 2"
   ]
  },
  {
   "cell_type": "code",
   "execution_count": 4,
   "metadata": {},
   "outputs": [],
   "source": [
    "elements=[]\n",
    "len_elements=[]\n",
    "def lengths():\n",
    "    n=int(input(\"enter number of elements you want\"))\n",
    "    for i in range(0,n):\n",
    "        values=input()\n",
    "        elements.append(values)\n",
    "    print(\"The entered elements are : \",elements)\n",
    "    for x in range(0,n):\n",
    "        length_elements=len(elements[x])\n",
    "        len_elements.append(length_elements)\n",
    "    print(\"The length are\",len_elements)\n",
    "        \n",
    "    "
   ]
  },
  {
   "cell_type": "code",
   "execution_count": 5,
   "metadata": {},
   "outputs": [
    {
     "name": "stdout",
     "output_type": "stream",
     "text": [
      "enter number of elements you want2\n",
      "harsh\n",
      "sudhanshu\n",
      "The entered elements are :  ['harsh', 'sudhanshu']\n",
      "The length are [5, 9]\n"
     ]
    }
   ],
   "source": [
    "lengths()"
   ]
  },
  {
   "cell_type": "code",
   "execution_count": 92,
   "metadata": {},
   "outputs": [],
   "source": [
    "def character():\n",
    "    n=input(\"Enter a STRING : \")\n",
    "    if (n=='A' or n=='a' or n=='E' or n =='e' or n=='I'\n",
    " or n=='i' or n=='O' or n=='o' or n=='U' or n=='u'):\n",
    "        return True\n",
    "    else:\n",
    "        return False"
   ]
  },
  {
   "cell_type": "code",
   "execution_count": 93,
   "metadata": {},
   "outputs": [
    {
     "name": "stdout",
     "output_type": "stream",
     "text": [
      "Enter a STRING : A\n"
     ]
    },
    {
     "data": {
      "text/plain": [
       "True"
      ]
     },
     "execution_count": 93,
     "metadata": {},
     "output_type": "execute_result"
    }
   ],
   "source": [
    "character()"
   ]
  },
  {
   "cell_type": "code",
   "execution_count": null,
   "metadata": {},
   "outputs": [],
   "source": []
  }
 ],
 "metadata": {
  "hide_input": false,
  "kernelspec": {
   "display_name": "Python 3",
   "language": "python",
   "name": "python3"
  },
  "language_info": {
   "codemirror_mode": {
    "name": "ipython",
    "version": 3
   },
   "file_extension": ".py",
   "mimetype": "text/x-python",
   "name": "python",
   "nbconvert_exporter": "python",
   "pygments_lexer": "ipython3",
   "version": "3.7.3"
  },
  "latex_envs": {
   "LaTeX_envs_menu_present": true,
   "autoclose": false,
   "autocomplete": true,
   "bibliofile": "biblio.bib",
   "cite_by": "apalike",
   "current_citInitial": 1,
   "eqLabelWithNumbers": true,
   "eqNumInitial": 1,
   "hotkeys": {
    "equation": "Ctrl-E",
    "itemize": "Ctrl-I"
   },
   "labels_anchors": false,
   "latex_user_defs": false,
   "report_style_numbering": false,
   "user_envs_cfg": false
  }
 },
 "nbformat": 4,
 "nbformat_minor": 4
}
